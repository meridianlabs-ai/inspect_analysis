{
 "cells": [
  {
   "cell_type": "code",
   "execution_count": 3,
   "id": "c99fe9f5",
   "metadata": {},
   "outputs": [
    {
     "data": {
      "application/vnd.jupyter.widget-view+json": {
       "model_id": "ab57e16fab1446de80310405d64f03e2",
       "version_major": 2,
       "version_minor": 1
      },
      "text/plain": [
       "SharedDFWidget(buffer=b'\\xff\\xff\\xff\\xff\\xe0\\x05\\x00\\x00\\x10\\x00\\x00\\x00\\x00\\x00\\n\\x00\\x0e\\x00\\x06\\x00\\x05\\x00…"
      ]
     },
     "metadata": {},
     "output_type": "display_data"
    },
    {
     "data": {
      "application/vnd.jupyter.widget-view+json": {
       "model_id": "5f8bc41e2bfb483292d763aefd8417a0",
       "version_major": 2,
       "version_minor": 1
      },
      "text/plain": [
       "FigureView(df_id='h8nmNFidUEAHzkzYQewhqy', figure_json='{\"data\":[{\"hovertemplate\":\"sepal_width=%{x}\\\\u003cbr\\\\…"
      ]
     },
     "execution_count": 3,
     "metadata": {},
     "output_type": "execute_result"
    }
   ],
   "source": [
    "import plotly.express as px\n",
    "from inspect_analysis.dashboard import figure_view, shared_df\n",
    "\n",
    "df = shared_df(px.data.iris())\n",
    "fig = px.scatter(df, x=\"sepal_width\", y=\"sepal_length\")\n",
    "figure_view(df, fig)"
   ]
  }
 ],
 "metadata": {
  "kernelspec": {
   "display_name": ".venv",
   "language": "python",
   "name": "python3"
  },
  "language_info": {
   "codemirror_mode": {
    "name": "ipython",
    "version": 3
   },
   "file_extension": ".py",
   "mimetype": "text/x-python",
   "name": "python",
   "nbconvert_exporter": "python",
   "pygments_lexer": "ipython3",
   "version": "3.12.0"
  }
 },
 "nbformat": 4,
 "nbformat_minor": 5
}
