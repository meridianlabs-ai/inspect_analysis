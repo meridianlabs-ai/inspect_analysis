{
 "cells": [
  {
   "cell_type": "code",
   "execution_count": null,
   "id": "602aebbe-5521-4201-b00f-3e6a1fdcd959",
   "metadata": {},
   "outputs": [
    {
     "data": {
      "application/vnd.jupyter.widget-view+json": {
       "model_id": "e5f058f2dfff4bdf9c746221f7bb646c",
       "version_major": 2,
       "version_minor": 1
      },
      "text/plain": [
       "FigureView(figure_json='{\"data\":[{\"hovertemplate\":\"sepal_width=%{x}\\\\u003cbr\\\\u003esepal_length=%{y}\\\\u003cext…"
      ]
     },
     "execution_count": 2,
     "metadata": {},
     "output_type": "execute_result"
    }
   ],
   "source": []
  },
  {
   "cell_type": "code",
   "execution_count": null,
   "id": "ed6fe647-dcff-4cdd-8fac-18c6b56fe04a",
   "metadata": {},
   "outputs": [],
   "source": []
  },
  {
   "cell_type": "code",
   "execution_count": null,
   "id": "91ef8e41-3aef-4f31-991f-7a926029ba73",
   "metadata": {},
   "outputs": [],
   "source": []
  }
 ],
 "metadata": {
  "kernelspec": {
   "display_name": ".venv",
   "language": "python",
   "name": "python3"
  },
  "language_info": {
   "codemirror_mode": {
    "name": "ipython",
    "version": 3
   },
   "file_extension": ".py",
   "mimetype": "text/x-python",
   "name": "python",
   "nbconvert_exporter": "python",
   "pygments_lexer": "ipython3",
   "version": "3.12.0"
  }
 },
 "nbformat": 4,
 "nbformat_minor": 5
}
