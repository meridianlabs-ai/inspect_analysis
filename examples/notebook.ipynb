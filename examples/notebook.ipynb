{
 "cells": [
  {
   "cell_type": "code",
   "execution_count": null,
   "id": "c99fe9f5",
   "metadata": {},
   "outputs": [
    {
     "data": {
      "application/vnd.jupyter.widget-view+json": {
       "model_id": "464d119f2f4f42638295ce766966520a",
       "version_major": 2,
       "version_minor": 1
      },
      "text/plain": [
       "SharedDFWidget(buffer=b'\\xff\\xff\\xff\\xff\\xe0\\x05\\x00\\x00\\x10\\x00\\x00\\x00\\x00\\x00\\n\\x00\\x0e\\x00\\x06\\x00\\x05\\x00…"
      ]
     },
     "metadata": {},
     "output_type": "display_data"
    },
    {
     "data": {
      "application/vnd.jupyter.widget-view+json": {
       "model_id": "9450c0d7adc04cd6b4cb0a93d8272630",
       "version_major": 2,
       "version_minor": 1
      },
      "text/plain": [
       "FigureView(figure_json='{\"data\":[{\"hovertemplate\":\"sepal_width=%{x}\\\\u003cbr\\\\u003esepal_length=%{y}\\\\u003cext…"
      ]
     },
     "execution_count": 1,
     "metadata": {},
     "output_type": "execute_result"
    }
   ],
   "source": [
    "import plotly.express as px\n",
    "from inspect_viz import figure_view, dataframe\n",
    "\n",
    "iris = dataframe(px.data.iris())\n",
    "fig = px.scatter(iris, x=\"sepal_width\", y=\"sepal_length\")\n",
    "figure_view(iris, fig)"
   ]
  },
  {
   "cell_type": "code",
   "execution_count": null,
   "id": "602aebbe-5521-4201-b00f-3e6a1fdcd959",
   "metadata": {},
   "outputs": [
    {
     "data": {
      "application/vnd.jupyter.widget-view+json": {
       "model_id": "e5f058f2dfff4bdf9c746221f7bb646c",
       "version_major": 2,
       "version_minor": 1
      },
      "text/plain": [
       "FigureView(figure_json='{\"data\":[{\"hovertemplate\":\"sepal_width=%{x}\\\\u003cbr\\\\u003esepal_length=%{y}\\\\u003cext…"
      ]
     },
     "execution_count": 2,
     "metadata": {},
     "output_type": "execute_result"
    }
   ],
   "source": [
    "figure_view(iris, fig)"
   ]
  },
  {
   "cell_type": "code",
   "execution_count": null,
   "id": "ed6fe647-dcff-4cdd-8fac-18c6b56fe04a",
   "metadata": {},
   "outputs": [],
   "source": []
  },
  {
   "cell_type": "code",
   "execution_count": null,
   "id": "91ef8e41-3aef-4f31-991f-7a926029ba73",
   "metadata": {},
   "outputs": [],
   "source": []
  }
 ],
 "metadata": {
  "kernelspec": {
   "display_name": ".venv",
   "language": "python",
   "name": "python3"
  },
  "language_info": {
   "codemirror_mode": {
    "name": "ipython",
    "version": 3
   },
   "file_extension": ".py",
   "mimetype": "text/x-python",
   "name": "python",
   "nbconvert_exporter": "python",
   "pygments_lexer": "ipython3",
   "version": "3.12.0"
  }
 },
 "nbformat": 4,
 "nbformat_minor": 5
}
