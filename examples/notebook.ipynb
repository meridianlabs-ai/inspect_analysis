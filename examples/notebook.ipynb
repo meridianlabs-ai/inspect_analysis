{
 "cells": [
  {
   "cell_type": "code",
   "execution_count": 1,
   "id": "0740f203",
   "metadata": {},
   "outputs": [
    {
     "name": "stdout",
     "output_type": "stream",
     "text": [
      "env: ANYWIDGET_HMR=1\n"
     ]
    }
   ],
   "source": [
    "%load_ext autoreload\n",
    "%autoreload 2\n",
    "%env ANYWIDGET_HMR=1"
   ]
  },
  {
   "cell_type": "code",
   "execution_count": 6,
   "id": "c99fe9f5",
   "metadata": {},
   "outputs": [
    {
     "data": {
      "application/vnd.jupyter.widget-view+json": {
       "model_id": "612f7bf3fa8c419b8200681bb2c49eef",
       "version_major": 2,
       "version_minor": 1
      },
      "text/plain": [
       "SharedDFWidget(buffer=b'\\xff\\xff\\xff\\xff\\xe0\\x05\\x00\\x00\\x10\\x00\\x00\\x00\\x00\\x00\\n\\x00\\x0e\\x00\\x06\\x00\\x05\\x00…"
      ]
     },
     "metadata": {},
     "output_type": "display_data"
    },
    {
     "data": {
      "application/vnd.jupyter.widget-view+json": {
       "model_id": "f7be722ed57f4da38e212f4355235dd0",
       "version_major": 2,
       "version_minor": 1
      },
      "text/plain": [
       "FigureView(df_id='Uj2JyoDZgeUwhihapXrgLR', figure_json='{\"data\":[{\"hovertemplate\":\"sepal_width=%{x}\\\\u003cbr\\\\…"
      ]
     },
     "execution_count": 6,
     "metadata": {},
     "output_type": "execute_result"
    }
   ],
   "source": [
    "import pandas as pd\n",
    "import plotly.express as px\n",
    "from inspect_analysis.dashboard import shared_df, figure_view\n",
    "\n",
    "df = shared_df(px.data.iris())\n",
    "fig = px.scatter(df, x=\"sepal_width\", y=\"sepal_length\")\n",
    "figure_view(df, fig)"
   ]
  }
 ],
 "metadata": {
  "kernelspec": {
   "display_name": ".venv",
   "language": "python",
   "name": "python3"
  },
  "language_info": {
   "codemirror_mode": {
    "name": "ipython",
    "version": 3
   },
   "file_extension": ".py",
   "mimetype": "text/x-python",
   "name": "python",
   "nbconvert_exporter": "python",
   "pygments_lexer": "ipython3",
   "version": "3.12.0"
  }
 },
 "nbformat": 4,
 "nbformat_minor": 5
}
