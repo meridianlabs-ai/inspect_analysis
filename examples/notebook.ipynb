{
 "cells": [
  {
   "cell_type": "code",
   "execution_count": 3,
   "id": "c99fe9f5",
   "metadata": {},
   "outputs": [
    {
     "data": {
      "application/vnd.jupyter.widget-view+json": {
       "model_id": "ce70452b4bd0454883cb5bb88402241c",
       "version_major": 2,
       "version_minor": 1
      },
      "text/plain": [
       "SharedDFWidget(buffer=b'\\xff\\xff\\xff\\xff\\xe0\\x05\\x00\\x00\\x10\\x00\\x00\\x00\\x00\\x00\\n\\x00\\x0e\\x00\\x06\\x00\\x05\\x00…"
      ]
     },
     "metadata": {},
     "output_type": "display_data"
    },
    {
     "data": {
      "application/vnd.jupyter.widget-view+json": {
       "model_id": "320feeb557c34866ac9c2ea31cfa003d",
       "version_major": 2,
       "version_minor": 1
      },
      "text/plain": [
       "FigureView(df_id='YU2cChvVX2DZ5cstSwUN9j', figure_json='{\"data\":[{\"hovertemplate\":\"sepal_width=%{x}\\\\u003cbr\\\\…"
      ]
     },
     "execution_count": 3,
     "metadata": {},
     "output_type": "execute_result"
    }
   ],
   "source": [
    "import plotly.express as px\n",
    "from inspect_viz.dashboard import figure_view, shared_df\n",
    "\n",
    "df = shared_df(px.data.iris())\n",
    "fig = px.scatter(df, x=\"sepal_width\", y=\"sepal_length\")\n",
    "figure_view(df, fig)"
   ]
  },
  {
   "cell_type": "code",
   "execution_count": 4,
   "id": "602aebbe-5521-4201-b00f-3e6a1fdcd959",
   "metadata": {},
   "outputs": [
    {
     "data": {
      "application/vnd.jupyter.widget-view+json": {
       "model_id": "208712a144134c2ebf0dcc06b8afa8d0",
       "version_major": 2,
       "version_minor": 1
      },
      "text/plain": [
       "FigureView(df_id='YU2cChvVX2DZ5cstSwUN9j', figure_json='{\"data\":[{\"hovertemplate\":\"sepal_width=%{x}\\\\u003cbr\\\\…"
      ]
     },
     "execution_count": 4,
     "metadata": {},
     "output_type": "execute_result"
    }
   ],
   "source": [
    "figure_view(df, fig)"
   ]
  },
  {
   "cell_type": "code",
   "execution_count": null,
   "id": "ed6fe647-dcff-4cdd-8fac-18c6b56fe04a",
   "metadata": {},
   "outputs": [],
   "source": []
  },
  {
   "cell_type": "code",
   "execution_count": null,
   "id": "91ef8e41-3aef-4f31-991f-7a926029ba73",
   "metadata": {},
   "outputs": [],
   "source": []
  }
 ],
 "metadata": {
  "kernelspec": {
   "display_name": "Python 3 (ipykernel)",
   "language": "python",
   "name": "python3"
  },
  "language_info": {
   "codemirror_mode": {
    "name": "ipython",
    "version": 3
   },
   "file_extension": ".py",
   "mimetype": "text/x-python",
   "name": "python",
   "nbconvert_exporter": "python",
   "pygments_lexer": "ipython3",
   "version": "3.12.0"
  }
 },
 "nbformat": 4,
 "nbformat_minor": 5
}
