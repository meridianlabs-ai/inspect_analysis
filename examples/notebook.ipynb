{
 "cells": [
  {
   "cell_type": "code",
   "execution_count": 1,
   "id": "0740f203",
   "metadata": {},
   "outputs": [
    {
     "name": "stdout",
     "output_type": "stream",
     "text": [
      "env: ANYWIDGET_HMR=1\n"
     ]
    }
   ],
   "source": [
    "%load_ext autoreload\n",
    "%autoreload 2\n",
    "%env ANYWIDGET_HMR=1"
   ]
  },
  {
   "cell_type": "code",
   "execution_count": 2,
   "id": "c99fe9f5",
   "metadata": {},
   "outputs": [
    {
     "data": {
      "application/vnd.jupyter.widget-view+json": {
       "model_id": "1d8b35ba3e754f00aa99a2357a2ac88d",
       "version_major": 2,
       "version_minor": 1
      },
      "text/plain": [
       "SharedDFWidget(buffer=b'\\xff\\xff\\xff\\xff\\xe0\\x05\\x00\\x00\\x10\\x00\\x00\\x00\\x00\\x00\\n\\x00\\x0e\\x00\\x06\\x00\\x05\\x00…"
      ]
     },
     "metadata": {},
     "output_type": "display_data"
    },
    {
     "data": {
      "application/vnd.jupyter.widget-view+json": {
       "model_id": "a29423aeb2a34a4a805ec71f850fe907",
       "version_major": 2,
       "version_minor": 1
      },
      "text/plain": [
       "FigureView(df_id='fuxPWXrtqwFXJPByQJ4o4c', figure_json='{\"data\":[{\"hovertemplate\":\"sepal_width=%{x}\\\\u003cbr\\\\…"
      ]
     },
     "execution_count": 2,
     "metadata": {},
     "output_type": "execute_result"
    }
   ],
   "source": [
    "import pandas as pd\n",
    "import plotly.express as px\n",
    "from inspect_analysis.dashboard import shared_df, figure_view\n",
    "\n",
    "df = shared_df(px.data.iris())\n",
    "fig = px.scatter(df, x=\"sepal_width\", y=\"sepal_length\")\n",
    "figure_view(df, fig)"
   ]
  }
 ],
 "metadata": {
  "kernelspec": {
   "display_name": ".venv",
   "language": "python",
   "name": "python3"
  },
  "language_info": {
   "codemirror_mode": {
    "name": "ipython",
    "version": 3
   },
   "file_extension": ".py",
   "mimetype": "text/x-python",
   "name": "python",
   "nbconvert_exporter": "python",
   "pygments_lexer": "ipython3",
   "version": "3.12.0"
  }
 },
 "nbformat": 4,
 "nbformat_minor": 5
}
