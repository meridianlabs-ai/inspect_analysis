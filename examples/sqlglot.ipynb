{
 "cells": [
  {
   "cell_type": "code",
   "execution_count": null,
   "id": "9ef37e6c",
   "metadata": {},
   "outputs": [
    {
     "data": {
      "application/vnd.jupyter.widget-view+json": {
       "model_id": "9c47552e3225462fa9f2c24839f4ad7a",
       "version_major": 2,
       "version_minor": 1
      },
      "text/plain": [
       "ReactiveDFWidget(buffer=b'\\xff\\xff\\xff\\xff\\xe0\\x05\\x00\\x00\\x10\\x00\\x00\\x00\\x00\\x00\\n\\x00\\x0e\\x00\\x06\\x00\\x05\\x…"
      ]
     },
     "metadata": {},
     "output_type": "display_data"
    },
    {
     "data": {
      "application/vnd.jupyter.widget-view+json": {
       "model_id": "3edc16bfdd8a4dc5bc0f40be8ef2be17",
       "version_major": 2,
       "version_minor": 1
      },
      "text/plain": [
       "ReactiveDFWidget(buffer=b'\\xff\\xff\\xff\\xff\\xe0\\x05\\x00\\x00\\x10\\x00\\x00\\x00\\x00\\x00\\n\\x00\\x0e\\x00\\x06\\x00\\x05\\x…"
      ]
     },
     "metadata": {},
     "output_type": "display_data"
    },
    {
     "name": "stdout",
     "output_type": "stream",
     "text": [
      "   sepal_length  sepal_width  petal_length  petal_width     species  \\\n",
      "0           7.0          3.2           4.7          1.4  versicolor   \n",
      "1           6.4          3.2           4.5          1.5  versicolor   \n",
      "2           6.9          3.1           4.9          1.5  versicolor   \n",
      "3           5.5          2.3           4.0          1.3  versicolor   \n",
      "4           6.5          2.8           4.6          1.5  versicolor   \n",
      "\n",
      "   species_id  \n",
      "0           2  \n",
      "1           2  \n",
      "2           2  \n",
      "3           2  \n",
      "4           2  \n"
     ]
    }
   ],
   "source": [
    "import plotly.express as px\n",
    "from inspect_viz.data import reactive_df, select\n",
    "\n",
    "# from inspect_viz.widgets import table_view\n",
    "\n",
    "dt = reactive_df(px.data.iris())\n",
    "\n",
    "dt = dt.query(\n",
    "    select(\"*\").where(\"species = :species\").limit(5),\n",
    "    species=\"versicolor\"\n",
    ")\n",
    "\n",
    "print(dt._ndf.to_pandas())"
   ]
  }
 ],
 "metadata": {
  "kernelspec": {
   "display_name": ".venv",
   "language": "python",
   "name": "python3"
  },
  "language_info": {
   "codemirror_mode": {
    "name": "ipython",
    "version": 3
   },
   "file_extension": ".py",
   "mimetype": "text/x-python",
   "name": "python",
   "nbconvert_exporter": "python",
   "pygments_lexer": "ipython3",
   "version": "3.12.0"
  }
 },
 "nbformat": 4,
 "nbformat_minor": 5
}
