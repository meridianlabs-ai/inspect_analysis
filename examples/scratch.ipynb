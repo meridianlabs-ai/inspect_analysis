{
 "cells": [
  {
   "cell_type": "code",
   "execution_count": 2,
   "id": "f20d8276",
   "metadata": {},
   "outputs": [
    {
     "data": {
      "text/plain": [
       "':iNPgjjXpRT2hNPCDZUV2HG'"
      ]
     },
     "execution_count": 2,
     "metadata": {},
     "output_type": "execute_result"
    }
   ],
   "source": [
    "from inspect_viz import param\n",
    "\n",
    "str(param(45))"
   ]
  }
 ],
 "metadata": {
  "kernelspec": {
   "display_name": ".venv",
   "language": "python",
   "name": "python3"
  },
  "language_info": {
   "codemirror_mode": {
    "name": "ipython",
    "version": 3
   },
   "file_extension": ".py",
   "mimetype": "text/x-python",
   "name": "python",
   "nbconvert_exporter": "python",
   "pygments_lexer": "ipython3",
   "version": "3.12.0"
  }
 },
 "nbformat": 4,
 "nbformat_minor": 5
}
