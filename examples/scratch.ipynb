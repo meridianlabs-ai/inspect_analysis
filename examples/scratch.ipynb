{
 "cells": [
  {
   "cell_type": "code",
   "execution_count": null,
   "id": "bb6b2f3b",
   "metadata": {},
   "outputs": [
    {
     "data": {
      "text/plain": [
       "MosaicQuery(sql='SELECT category, product FROM data', parameters={}, select={'category': 'category', 'product': 'product'}, distinct=None, sample=None, where=None, groupby=None, having=None, orderby=None, limit=None)"
      ]
     },
     "execution_count": 5,
     "metadata": {},
     "output_type": "execute_result"
    }
   ],
   "source": [
    "from inspect_viz.data.parse_sql import parse_sql\n",
    "\n",
    "sql = parse_sql(\"SELECT category, product FROM products\")\n",
    "sql"
   ]
  }
 ],
 "metadata": {
  "kernelspec": {
   "display_name": ".venv",
   "language": "python",
   "name": "python3"
  },
  "language_info": {
   "codemirror_mode": {
    "name": "ipython",
    "version": 3
   },
   "file_extension": ".py",
   "mimetype": "text/x-python",
   "name": "python",
   "nbconvert_exporter": "python",
   "pygments_lexer": "ipython3",
   "version": "3.12.0"
  }
 },
 "nbformat": 4,
 "nbformat_minor": 5
}
